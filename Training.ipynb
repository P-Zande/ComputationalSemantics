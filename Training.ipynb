{
 "cells": [
  {
   "cell_type": "markdown",
   "id": "86af874d",
   "metadata": {},
   "source": [
    "# Data preparation"
   ]
  },
  {
   "cell_type": "code",
   "execution_count": 1,
   "id": "9ae7dbde",
   "metadata": {},
   "outputs": [
    {
     "name": "stderr",
     "output_type": "stream",
     "text": [
      "Loading cached processed dataset at /mnt/c/Users/perry/Documents/uni/Master/CompSem/project/ComputationalSemantics/dataset.hf/cache-cf6e09deaae4883c.arrow\n"
     ]
    },
    {
     "name": "stdout",
     "output_type": "stream",
     "text": [
      "DatasetDict({\n",
      "    train: Dataset({\n",
      "        features: ['tokens', 'labels', 'origin', 'id', 'ner_tags'],\n",
      "        num_rows: 6654\n",
      "    })\n",
      "    test: Dataset({\n",
      "        features: ['tokens', 'labels', 'origin', 'id', 'ner_tags'],\n",
      "        num_rows: 1664\n",
      "    })\n",
      "}) Dataset({\n",
      "    features: ['tokens', 'labels', 'origin', 'id', 'ner_tags'],\n",
      "    num_rows: 925\n",
      "})\n"
     ]
    }
   ],
   "source": [
    "from datasets import load_from_disk\n",
    "\n",
    "def new_column(example):\n",
    "    example[\"ner_tags\"] = example[\"labels\"]\n",
    "    return example\n",
    "\n",
    "# data = load_from_disk(\"test.hf\")\n",
    "# data = load_from_disk(\"testWithOrigin.hf\")\n",
    "data = load_from_disk(\"dataset.hf\")\n",
    "id_column = range(data.num_rows)\n",
    "data = data.add_column(\"id\", id_column)\n",
    "data = data.map(new_column)\n",
    "\n",
    "# Split up the data for testing and training\n",
    "data = data.train_test_split(test_size=0.1)\n",
    "test_data = data[\"test\"]\n",
    "data = data[\"train\"].train_test_split(test_size=0.2)\n",
    "\n",
    "print(data, test_data)"
   ]
  },
  {
   "cell_type": "code",
   "execution_count": 2,
   "id": "ac10a564",
   "metadata": {},
   "outputs": [
    {
     "data": {
      "text/plain": [
       "['[CLS]',\n",
       " 'vegetarian',\n",
       " '##s',\n",
       " 'are',\n",
       " 'some',\n",
       " 'of',\n",
       " 'the',\n",
       " 'health',\n",
       " '##iest',\n",
       " 'people',\n",
       " 'in',\n",
       " 'the',\n",
       " 'world',\n",
       " '.',\n",
       " '[SEP]']"
      ]
     },
     "execution_count": 2,
     "metadata": {},
     "output_type": "execute_result"
    }
   ],
   "source": [
    "from transformers import AutoTokenizer\n",
    "\n",
    "tokenizer = AutoTokenizer.from_pretrained(\"distilbert-base-uncased\")\n",
    "\n",
    "example = data[\"train\"][0]\n",
    "tokenized_input = tokenizer(example[\"tokens\"], is_split_into_words=True)\n",
    "tokens = tokenizer.convert_ids_to_tokens(tokenized_input[\"input_ids\"])\n",
    "tokens"
   ]
  },
  {
   "cell_type": "code",
   "execution_count": 3,
   "id": "0188bd62",
   "metadata": {},
   "outputs": [
    {
     "data": {
      "application/vnd.jupyter.widget-view+json": {
       "model_id": "",
       "version_major": 2,
       "version_minor": 0
      },
      "text/plain": [
       "Map:   0%|          | 0/6654 [00:00<?, ? examples/s]"
      ]
     },
     "metadata": {},
     "output_type": "display_data"
    },
    {
     "data": {
      "application/vnd.jupyter.widget-view+json": {
       "model_id": "",
       "version_major": 2,
       "version_minor": 0
      },
      "text/plain": [
       "Map:   0%|          | 0/1664 [00:00<?, ? examples/s]"
      ]
     },
     "metadata": {},
     "output_type": "display_data"
    },
    {
     "data": {
      "text/plain": [
       "{'tokens': ['Vegetarians',\n",
       "  'are',\n",
       "  'some',\n",
       "  'of',\n",
       "  'the',\n",
       "  'healthiest',\n",
       "  'people',\n",
       "  'in',\n",
       "  'the',\n",
       "  'world',\n",
       "  '.'],\n",
       " 'labels': [-100, 1, -100, 0, 5, 5, 5, 5, -100, 5, 5, 7, 7, 0, -100],\n",
       " 'origin': [1.1, None, 1.0, 1.0, 1.0, 1.0, 1.0, 1.0, 7.0, 7.0, None],\n",
       " 'id': 9232,\n",
       " 'ner_tags': [1, 0, 5, 5, 5, 5, 5, 5, 7, 7, 0],\n",
       " 'input_ids': [101,\n",
       "  23566,\n",
       "  2015,\n",
       "  2024,\n",
       "  2070,\n",
       "  1997,\n",
       "  1996,\n",
       "  2740,\n",
       "  10458,\n",
       "  2111,\n",
       "  1999,\n",
       "  1996,\n",
       "  2088,\n",
       "  1012,\n",
       "  102],\n",
       " 'attention_mask': [1, 1, 1, 1, 1, 1, 1, 1, 1, 1, 1, 1, 1, 1, 1]}"
      ]
     },
     "execution_count": 3,
     "metadata": {},
     "output_type": "execute_result"
    }
   ],
   "source": [
    "def tokenize_and_align_labels(examples):\n",
    "    tokenized_inputs = tokenizer(examples[\"tokens\"], truncation=True, is_split_into_words=True)\n",
    "\n",
    "    labels = []\n",
    "    for i, label in enumerate(examples[f\"ner_tags\"]):\n",
    "        word_ids = tokenized_inputs.word_ids(batch_index=i)  # Map tokens to their respective word.\n",
    "        previous_word_idx = None\n",
    "        label_ids = []\n",
    "        for word_idx in word_ids:  # Set the special tokens to -100.\n",
    "            if word_idx is None:\n",
    "                label_ids.append(-100)\n",
    "            elif word_idx != previous_word_idx:  # Only label the first token of a given word.\n",
    "                label_ids.append(label[word_idx])\n",
    "            else:\n",
    "                label_ids.append(-100)\n",
    "            previous_word_idx = word_idx\n",
    "        labels.append(label_ids)\n",
    "\n",
    "    tokenized_inputs[\"labels\"] = labels\n",
    "    return tokenized_inputs\n",
    "\n",
    "tokenized_data = data.map(tokenize_and_align_labels, batched=True)\n",
    "tokenized_data[\"train\"][0]"
   ]
  },
  {
   "cell_type": "code",
   "execution_count": 4,
   "id": "023c3de3",
   "metadata": {},
   "outputs": [],
   "source": [
    "from transformers import DataCollatorForTokenClassification\n",
    "\n",
    "data_collator = DataCollatorForTokenClassification(tokenizer=tokenizer)"
   ]
  },
  {
   "cell_type": "markdown",
   "id": "201119dc",
   "metadata": {},
   "source": [
    "## Evaluation method"
   ]
  },
  {
   "cell_type": "code",
   "execution_count": 11,
   "id": "242f94a8",
   "metadata": {},
   "outputs": [],
   "source": [
    "import evaluate\n",
    "import numpy as np\n",
    "\n",
    "seqeval = evaluate.load(\"seqeval\")\n",
    "\n",
    "#mapping = {\"Theme\": 1, \"Agent\": 2, \"Patient\": 3, \"Experiencer\": 4, \"Co-Theme\": 5, \"Stimulus\": 6, \"Location\": 7, \"Destination\": 8}\n",
    "label_list = [\n",
    "    \"O\",\n",
    "    \"Theme\",\n",
    "    \"Agent\",\n",
    "    \"Patient\",\n",
    "    \"Experiencer\",\n",
    "    \"Co-Theme\",\n",
    "    \"Stimulus\",\n",
    "    \"Location\",\n",
    "    \"Destination\",\n",
    "]\n",
    "\n",
    "labels = [label_list[i] for i in example[f\"ner_tags\"]]\n",
    "\n",
    "def compute_metrics(p):\n",
    "    predictions, labels = p\n",
    "    predictions = np.argmax(predictions, axis=2)\n",
    "\n",
    "    true_predictions = [\n",
    "        [label_list[p] for (p, l) in zip(prediction, label) if l != -100]\n",
    "        for prediction, label in zip(predictions, labels)\n",
    "    ]\n",
    "    true_labels = [\n",
    "        [label_list[l] for (p, l) in zip(prediction, label) if l != -100]\n",
    "        for prediction, label in zip(predictions, labels)\n",
    "    ]\n",
    "\n",
    "    results = seqeval.compute(predictions=true_predictions, references=true_labels)\n",
    "    return {\n",
    "        \"precision\": results[\"overall_precision\"],\n",
    "        \"recall\": results[\"overall_recall\"],\n",
    "        \"f1\": results[\"overall_f1\"],\n",
    "        \"accuracy\": results[\"overall_accuracy\"],\n",
    "    }"
   ]
  },
  {
   "cell_type": "markdown",
   "id": "af076a6f",
   "metadata": {},
   "source": [
    "# Training"
   ]
  },
  {
   "cell_type": "code",
   "execution_count": 6,
   "id": "1416e8a8",
   "metadata": {},
   "outputs": [
    {
     "name": "stdout",
     "output_type": "stream",
     "text": [
      "{0: 'O', 1: 'Theme', 2: 'Agent', 3: 'Patient', 4: 'Experiencer', 5: 'Co-Theme', 6: 'Stimulus', 7: 'Location', 8: 'Destination'}\n",
      "{'O': 0, 'Theme': 1, 'Agent': 2, 'Patient': 3, 'Experiencer': 4, 'Co-Theme': 5, 'Stimulus': 6, 'Location': 7, 'Destination': 8}\n"
     ]
    }
   ],
   "source": [
    "mapping = {\"Theme\": 1, \"Agent\": 2, \"Patient\": 3, \"Experiencer\": 4, \"Co-Theme\": 5, \"Stimulus\": 6, \"Location\": 7, \"Destination\": 8}\n",
    "\n",
    "label2id = {\"O\": 0}\n",
    "label2id.update(mapping)\n",
    "id2label = {v: k for k, v in label2id.items()}\n",
    "print(id2label)\n",
    "print(label2id)\n",
    "# id2label = {\n",
    "#     0: \"O\",\n",
    "#     1: \"Agent\",\n",
    "#     2: \"Location\",\n",
    "#     3: \"Patient\",\n",
    "#     4: \"Theme\",\n",
    "#     5: \"Topic\",\n",
    "#     6: \"Destination\",\n",
    "#     7: \"Result\",\n",
    "# }\n",
    "\n",
    "# label2id = {\n",
    "#     \"O\": 0,\n",
    "#     \"Agent\": 1,\n",
    "#     \"Location\": 2,\n",
    "#     \"Patient\": 3,\n",
    "#     \"Theme\": 4,\n",
    "#     \"Topic\": 5,\n",
    "#     \"Destination\": 6,\n",
    "#     \"Result\": 7,\n",
    "# }"
   ]
  },
  {
   "cell_type": "code",
   "execution_count": 7,
   "id": "efb0be51",
   "metadata": {},
   "outputs": [
    {
     "name": "stderr",
     "output_type": "stream",
     "text": [
      "Some weights of the model checkpoint at distilbert-base-uncased were not used when initializing DistilBertForTokenClassification: ['vocab_projector.bias', 'vocab_transform.weight', 'vocab_transform.bias', 'vocab_layer_norm.bias', 'vocab_layer_norm.weight']\n",
      "- This IS expected if you are initializing DistilBertForTokenClassification from the checkpoint of a model trained on another task or with another architecture (e.g. initializing a BertForSequenceClassification model from a BertForPreTraining model).\n",
      "- This IS NOT expected if you are initializing DistilBertForTokenClassification from the checkpoint of a model that you expect to be exactly identical (initializing a BertForSequenceClassification model from a BertForSequenceClassification model).\n",
      "Some weights of DistilBertForTokenClassification were not initialized from the model checkpoint at distilbert-base-uncased and are newly initialized: ['classifier.bias', 'classifier.weight']\n",
      "You should probably TRAIN this model on a down-stream task to be able to use it for predictions and inference.\n"
     ]
    }
   ],
   "source": [
    "from transformers import AutoModelForTokenClassification, TrainingArguments, Trainer\n",
    "\n",
    "model = AutoModelForTokenClassification.from_pretrained(\n",
    "    \"distilbert-base-uncased\", num_labels=9, id2label=id2label, label2id=label2id\n",
    ")"
   ]
  },
  {
   "cell_type": "code",
   "execution_count": null,
   "id": "ef78519d",
   "metadata": {},
   "outputs": [
    {
     "name": "stderr",
     "output_type": "stream",
     "text": [
      "/home/perrygast/.local/lib/python3.8/site-packages/transformers/optimization.py:407: FutureWarning: This implementation of AdamW is deprecated and will be removed in a future version. Use the PyTorch implementation torch.optim.AdamW instead, or set `no_deprecation_warning=True` to disable this warning\n",
      "  warnings.warn(\n"
     ]
    },
    {
     "data": {
      "text/html": [
       "\n",
       "    <div>\n",
       "      \n",
       "      <progress value='1796' max='20800' style='width:300px; height:20px; vertical-align: middle;'></progress>\n",
       "      [ 1796/20800 11:51 < 2:05:33, 2.52 it/s, Epoch 4.31/50]\n",
       "    </div>\n",
       "    <table border=\"1\" class=\"dataframe\">\n",
       "  <thead>\n",
       " <tr style=\"text-align: left;\">\n",
       "      <th>Epoch</th>\n",
       "      <th>Training Loss</th>\n",
       "      <th>Validation Loss</th>\n",
       "      <th>Precision</th>\n",
       "      <th>Recall</th>\n",
       "      <th>F1</th>\n",
       "      <th>Accuracy</th>\n",
       "    </tr>\n",
       "  </thead>\n",
       "  <tbody>\n",
       "    <tr>\n",
       "      <td>1</td>\n",
       "      <td>No log</td>\n",
       "      <td>0.247821</td>\n",
       "      <td>0.870791</td>\n",
       "      <td>0.893353</td>\n",
       "      <td>0.881928</td>\n",
       "      <td>0.940718</td>\n",
       "    </tr>\n",
       "    <tr>\n",
       "      <td>2</td>\n",
       "      <td>0.064700</td>\n",
       "      <td>0.259977</td>\n",
       "      <td>0.879438</td>\n",
       "      <td>0.892978</td>\n",
       "      <td>0.886156</td>\n",
       "      <td>0.943818</td>\n",
       "    </tr>\n",
       "    <tr>\n",
       "      <td>3</td>\n",
       "      <td>0.034800</td>\n",
       "      <td>0.271546</td>\n",
       "      <td>0.879540</td>\n",
       "      <td>0.891100</td>\n",
       "      <td>0.885283</td>\n",
       "      <td>0.942691</td>\n",
       "    </tr>\n",
       "    <tr>\n",
       "      <td>4</td>\n",
       "      <td>0.031700</td>\n",
       "      <td>0.282772</td>\n",
       "      <td>0.879941</td>\n",
       "      <td>0.894480</td>\n",
       "      <td>0.887151</td>\n",
       "      <td>0.943818</td>\n",
       "    </tr>\n",
       "  </tbody>\n",
       "</table><p>"
      ],
      "text/plain": [
       "<IPython.core.display.HTML object>"
      ]
     },
     "metadata": {},
     "output_type": "display_data"
    },
    {
     "name": "stderr",
     "output_type": "stream",
     "text": [
      "/home/perrygast/.local/lib/python3.8/site-packages/seqeval/metrics/sequence_labeling.py:171: UserWarning: Experiencer seems not to be NE tag.\n",
      "  warnings.warn('{} seems not to be NE tag.'.format(chunk))\n",
      "/home/perrygast/.local/lib/python3.8/site-packages/seqeval/metrics/sequence_labeling.py:171: UserWarning: Stimulus seems not to be NE tag.\n",
      "  warnings.warn('{} seems not to be NE tag.'.format(chunk))\n",
      "/home/perrygast/.local/lib/python3.8/site-packages/seqeval/metrics/sequence_labeling.py:171: UserWarning: Theme seems not to be NE tag.\n",
      "  warnings.warn('{} seems not to be NE tag.'.format(chunk))\n",
      "/home/perrygast/.local/lib/python3.8/site-packages/seqeval/metrics/sequence_labeling.py:171: UserWarning: Co-Theme seems not to be NE tag.\n",
      "  warnings.warn('{} seems not to be NE tag.'.format(chunk))\n",
      "/home/perrygast/.local/lib/python3.8/site-packages/seqeval/metrics/sequence_labeling.py:171: UserWarning: Location seems not to be NE tag.\n",
      "  warnings.warn('{} seems not to be NE tag.'.format(chunk))\n",
      "/home/perrygast/.local/lib/python3.8/site-packages/seqeval/metrics/sequence_labeling.py:171: UserWarning: Agent seems not to be NE tag.\n",
      "  warnings.warn('{} seems not to be NE tag.'.format(chunk))\n",
      "/home/perrygast/.local/lib/python3.8/site-packages/seqeval/metrics/sequence_labeling.py:171: UserWarning: Patient seems not to be NE tag.\n",
      "  warnings.warn('{} seems not to be NE tag.'.format(chunk))\n",
      "/home/perrygast/.local/lib/python3.8/site-packages/seqeval/metrics/sequence_labeling.py:171: UserWarning: Destination seems not to be NE tag.\n",
      "  warnings.warn('{} seems not to be NE tag.'.format(chunk))\n",
      "/home/perrygast/.local/lib/python3.8/site-packages/seqeval/metrics/sequence_labeling.py:171: UserWarning: Experiencer seems not to be NE tag.\n",
      "  warnings.warn('{} seems not to be NE tag.'.format(chunk))\n",
      "/home/perrygast/.local/lib/python3.8/site-packages/seqeval/metrics/sequence_labeling.py:171: UserWarning: Stimulus seems not to be NE tag.\n",
      "  warnings.warn('{} seems not to be NE tag.'.format(chunk))\n",
      "/home/perrygast/.local/lib/python3.8/site-packages/seqeval/metrics/sequence_labeling.py:171: UserWarning: Theme seems not to be NE tag.\n",
      "  warnings.warn('{} seems not to be NE tag.'.format(chunk))\n",
      "/home/perrygast/.local/lib/python3.8/site-packages/seqeval/metrics/sequence_labeling.py:171: UserWarning: Co-Theme seems not to be NE tag.\n",
      "  warnings.warn('{} seems not to be NE tag.'.format(chunk))\n",
      "/home/perrygast/.local/lib/python3.8/site-packages/seqeval/metrics/sequence_labeling.py:171: UserWarning: Location seems not to be NE tag.\n",
      "  warnings.warn('{} seems not to be NE tag.'.format(chunk))\n",
      "/home/perrygast/.local/lib/python3.8/site-packages/seqeval/metrics/sequence_labeling.py:171: UserWarning: Agent seems not to be NE tag.\n",
      "  warnings.warn('{} seems not to be NE tag.'.format(chunk))\n",
      "/home/perrygast/.local/lib/python3.8/site-packages/seqeval/metrics/sequence_labeling.py:171: UserWarning: Patient seems not to be NE tag.\n",
      "  warnings.warn('{} seems not to be NE tag.'.format(chunk))\n",
      "/home/perrygast/.local/lib/python3.8/site-packages/seqeval/metrics/sequence_labeling.py:171: UserWarning: Destination seems not to be NE tag.\n",
      "  warnings.warn('{} seems not to be NE tag.'.format(chunk))\n",
      "/home/perrygast/.local/lib/python3.8/site-packages/seqeval/metrics/sequence_labeling.py:171: UserWarning: Experiencer seems not to be NE tag.\n",
      "  warnings.warn('{} seems not to be NE tag.'.format(chunk))\n",
      "/home/perrygast/.local/lib/python3.8/site-packages/seqeval/metrics/sequence_labeling.py:171: UserWarning: Stimulus seems not to be NE tag.\n",
      "  warnings.warn('{} seems not to be NE tag.'.format(chunk))\n",
      "/home/perrygast/.local/lib/python3.8/site-packages/seqeval/metrics/sequence_labeling.py:171: UserWarning: Theme seems not to be NE tag.\n",
      "  warnings.warn('{} seems not to be NE tag.'.format(chunk))\n",
      "/home/perrygast/.local/lib/python3.8/site-packages/seqeval/metrics/sequence_labeling.py:171: UserWarning: Co-Theme seems not to be NE tag.\n",
      "  warnings.warn('{} seems not to be NE tag.'.format(chunk))\n",
      "/home/perrygast/.local/lib/python3.8/site-packages/seqeval/metrics/sequence_labeling.py:171: UserWarning: Location seems not to be NE tag.\n",
      "  warnings.warn('{} seems not to be NE tag.'.format(chunk))\n",
      "/home/perrygast/.local/lib/python3.8/site-packages/seqeval/metrics/sequence_labeling.py:171: UserWarning: Agent seems not to be NE tag.\n",
      "  warnings.warn('{} seems not to be NE tag.'.format(chunk))\n",
      "/home/perrygast/.local/lib/python3.8/site-packages/seqeval/metrics/sequence_labeling.py:171: UserWarning: Patient seems not to be NE tag.\n",
      "  warnings.warn('{} seems not to be NE tag.'.format(chunk))\n",
      "/home/perrygast/.local/lib/python3.8/site-packages/seqeval/metrics/sequence_labeling.py:171: UserWarning: Destination seems not to be NE tag.\n",
      "  warnings.warn('{} seems not to be NE tag.'.format(chunk))\n"
     ]
    }
   ],
   "source": [
    "# Training parameters\n",
    "training_args = TrainingArguments(\n",
    "    output_dir=\"thematic_role_model\",\n",
    "    learning_rate=2e-5,\n",
    "    per_device_train_batch_size=16,\n",
    "    per_device_eval_batch_size=16,\n",
    "    num_train_epochs=50,\n",
    "    weight_decay=0.01,\n",
    "    evaluation_strategy=\"epoch\",\n",
    "    save_strategy=\"epoch\",\n",
    "    save_total_limit=4,\n",
    "    load_best_model_at_end=True,\n",
    "    push_to_hub=False,\n",
    ")\n",
    "\n",
    "trainer = Trainer(\n",
    "    model=model,\n",
    "    args=training_args,\n",
    "    train_dataset=tokenized_data[\"train\"],\n",
    "    eval_dataset=tokenized_data[\"test\"],\n",
    "    tokenizer=tokenizer,\n",
    "    data_collator=data_collator,\n",
    "    compute_metrics=compute_metrics,\n",
    ")\n",
    "\n",
    "trainer.train()"
   ]
  },
  {
   "cell_type": "markdown",
   "id": "22d9aa01",
   "metadata": {},
   "source": [
    "# Inference"
   ]
  },
  {
   "cell_type": "code",
   "execution_count": 41,
   "id": "0ccc8aaa",
   "metadata": {},
   "outputs": [
    {
     "data": {
      "text/plain": [
       "[{'entity': 'Agent',\n",
       "  'score': 0.9974968,\n",
       "  'index': 1,\n",
       "  'word': 'a',\n",
       "  'start': 0,\n",
       "  'end': 1},\n",
       " {'entity': 'Agent',\n",
       "  'score': 0.99777067,\n",
       "  'index': 2,\n",
       "  'word': 'dog',\n",
       "  'start': 2,\n",
       "  'end': 5},\n",
       " {'entity': 'Theme',\n",
       "  'score': 0.9660569,\n",
       "  'index': 4,\n",
       "  'word': 'a',\n",
       "  'start': 13,\n",
       "  'end': 14},\n",
       " {'entity': 'Theme',\n",
       "  'score': 0.9869752,\n",
       "  'index': 5,\n",
       "  'word': 'cat',\n",
       "  'start': 15,\n",
       "  'end': 18},\n",
       " {'entity': 'Destination',\n",
       "  'score': 0.9916328,\n",
       "  'index': 7,\n",
       "  'word': 'the',\n",
       "  'start': 22,\n",
       "  'end': 25},\n",
       " {'entity': 'Destination',\n",
       "  'score': 0.99160063,\n",
       "  'index': 8,\n",
       "  'word': 'bus',\n",
       "  'start': 26,\n",
       "  'end': 29}]"
      ]
     },
     "execution_count": 41,
     "metadata": {},
     "output_type": "execute_result"
    }
   ],
   "source": [
    "from transformers import pipeline\n",
    "\n",
    "text = \"A dog chases a cat to the bus.\"\n",
    "\n",
    "classifier = pipeline(\"ner\", model=\"thematic_role_model/checkpoint-506\")\n",
    "classifier(text)"
   ]
  },
  {
   "cell_type": "code",
   "execution_count": 63,
   "id": "f5540636",
   "metadata": {},
   "outputs": [
    {
     "name": "stdout",
     "output_type": "stream",
     "text": [
      "A dog chases a cat to the bus.\n",
      "{'input_ids': tensor([[  101,  1037,  3899, 29515,  1037,  4937,  2000,  1996,  3902,  1012,\n",
      "           102]]), 'attention_mask': tensor([[1, 1, 1, 1, 1, 1, 1, 1, 1, 1, 1]])}\n",
      "['O', 'Agent', 'Agent', 'O', 'Theme', 'Theme', 'O', 'Destination', 'Destination', 'O', 'O']\n"
     ]
    }
   ],
   "source": [
    "import torch\n",
    "from transformers import AutoTokenizer\n",
    "\n",
    "tokenizer = AutoTokenizer.from_pretrained(\"thematic_role_model/checkpoint-110\")\n",
    "inputs = tokenizer(text, return_tensors=\"pt\")\n",
    "\n",
    "from transformers import AutoModelForTokenClassification\n",
    "\n",
    "model = AutoModelForTokenClassification.from_pretrained(\"thematic_role_model/checkpoint-110\")\n",
    "with torch.no_grad():\n",
    "    logits = model(**inputs).logits\n",
    "\n",
    "predictions = torch.argmax(logits, dim=2)\n",
    "predicted_token_class = [model.config.id2label[t.item()] for t in predictions[0]]\n",
    "\n",
    "print(text)\n",
    "print(inputs)\n",
    "print(predicted_token_class)"
   ]
  },
  {
   "cell_type": "code",
   "execution_count": 37,
   "id": "16db8b84",
   "metadata": {},
   "outputs": [],
   "source": [
    "import torch"
   ]
  },
  {
   "cell_type": "code",
   "execution_count": 38,
   "id": "28e9c104",
   "metadata": {},
   "outputs": [],
   "source": [
    "torch.cuda.empty_cache()"
   ]
  },
  {
   "cell_type": "code",
   "execution_count": 8,
   "id": "3bf1b3c5",
   "metadata": {},
   "outputs": [
    {
     "name": "stdout",
     "output_type": "stream",
     "text": [
      "True\n",
      "1\n",
      "0\n",
      "<torch.cuda.device object at 0x7fc093452af0>\n",
      "NVIDIA GeForce GTX 1050\n"
     ]
    }
   ],
   "source": [
    "print(torch.cuda.is_available())\n",
    "\n",
    "print(torch.cuda.device_count())\n",
    "print(torch.cuda.current_device())\n",
    "print(torch.cuda.device(0))\n",
    "print(torch.cuda.get_device_name(0))"
   ]
  },
  {
   "cell_type": "code",
   "execution_count": 28,
   "id": "ae9d3eb0",
   "metadata": {},
   "outputs": [
    {
     "data": {
      "text/plain": [
       "{'tokens': [['Susan', 'left', 'an', 'hour', 'ago', '.'],\n",
       "  ['Tom', 'planted', 'three', 'apple trees', 'in', 'his', 'yard', '.'],\n",
       "  ['Tom', 'arrived', 'by', 'car', '.'],\n",
       "  ['I', 'was', 'relaxed', '.'],\n",
       "  ['She', 'was', 'arrested', 'by', 'the', 'police', '.'],\n",
       "  ['Tom', 'and', 'Mary', 'flew', 'to', 'Boston', 'yesterday', '.'],\n",
       "  ['I', 'should', 'cancel', 'my', 'L.A.', 'trip', '.'],\n",
       "  ['I', 'like', 'chocolate', '.'],\n",
       "  ['Maria',\n",
       "   'knew',\n",
       "   'neither',\n",
       "   'his',\n",
       "   'name',\n",
       "   'nor',\n",
       "   'his',\n",
       "   'phone number',\n",
       "   '.'],\n",
       "  ['I', 'pocketed', 'my', 'keys', '.']],\n",
       " 'labels': [[-100, 1, 0, 0, 0, 0, 0, -100],\n",
       "  [-100, 2, 0, 1, 1, -100, 0, 8, 8, 0, -100],\n",
       "  [-100, 1, 0, 0, 0, 0, -100],\n",
       "  [-100, 4, 0, 0, 0, -100],\n",
       "  [-100, 3, 0, 0, 0, 2, 2, 0, -100],\n",
       "  [-100, 1, 1, 1, 0, 0, 8, 0, 0, -100],\n",
       "  [-100, 2, 0, 0, 1, 1, -100, -100, -100, 1, 0, -100],\n",
       "  [-100, 4, 0, 6, 0, -100],\n",
       "  [-100, 4, 0, 6, 6, 6, 6, 6, 6, -100, 0, -100],\n",
       "  [-100, 2, 0, -100, 1, 1, 0, -100]],\n",
       " 'origin': [[1.0, None, None, None, None, None],\n",
       "  [1.1, None, 1.0, 1.0, None, 4.0, 4.0, None],\n",
       "  [1.0, None, None, None, None],\n",
       "  [2.0, None, None, None],\n",
       "  [2.0, None, None, None, 3.0, 3.0, None],\n",
       "  [3.0, 3.0, 3.0, None, None, 4.0, None, None],\n",
       "  [2.1, None, None, 2.0, 2.0, 2.0, None],\n",
       "  [1.1, None, 1.0, None],\n",
       "  [1.1, None, 1.0, 1.0, 1.0, 1.0, 1.0, 1.0, None],\n",
       "  [1.1, None, 1.0, 1.0, None]],\n",
       " 'id': [6967, 6933, 4717, 6568, 1954, 2347, 6689, 1502, 5001, 4530],\n",
       " 'ner_tags': [[1, 0, 0, 0, 0, 0],\n",
       "  [2, 0, 1, 1, 0, 8, 8, 0],\n",
       "  [1, 0, 0, 0, 0],\n",
       "  [4, 0, 0, 0],\n",
       "  [3, 0, 0, 0, 2, 2, 0],\n",
       "  [1, 1, 1, 0, 0, 8, 0, 0],\n",
       "  [2, 0, 0, 1, 1, 1, 0],\n",
       "  [4, 0, 6, 0],\n",
       "  [4, 0, 6, 6, 6, 6, 6, 6, 0],\n",
       "  [2, 0, 1, 1, 0]],\n",
       " 'input_ids': [[101, 6294, 2187, 2019, 3178, 3283, 1012, 102],\n",
       "  [101, 3419, 8461, 2093, 6207, 3628, 1999, 2010, 4220, 1012, 102],\n",
       "  [101, 3419, 3369, 2011, 2482, 1012, 102],\n",
       "  [101, 1045, 2001, 8363, 1012, 102],\n",
       "  [101, 2016, 2001, 4727, 2011, 1996, 2610, 1012, 102],\n",
       "  [101, 3419, 1998, 2984, 5520, 2000, 3731, 7483, 1012, 102],\n",
       "  [101, 1045, 2323, 17542, 2026, 1048, 1012, 1037, 1012, 4440, 1012, 102],\n",
       "  [101, 1045, 2066, 7967, 1012, 102],\n",
       "  [101, 3814, 2354, 4445, 2010, 2171, 4496, 2010, 3042, 2193, 1012, 102],\n",
       "  [101, 1045, 4979, 2098, 2026, 6309, 1012, 102]],\n",
       " 'attention_mask': [[1, 1, 1, 1, 1, 1, 1, 1],\n",
       "  [1, 1, 1, 1, 1, 1, 1, 1, 1, 1, 1],\n",
       "  [1, 1, 1, 1, 1, 1, 1],\n",
       "  [1, 1, 1, 1, 1, 1],\n",
       "  [1, 1, 1, 1, 1, 1, 1, 1, 1],\n",
       "  [1, 1, 1, 1, 1, 1, 1, 1, 1, 1],\n",
       "  [1, 1, 1, 1, 1, 1, 1, 1, 1, 1, 1, 1],\n",
       "  [1, 1, 1, 1, 1, 1],\n",
       "  [1, 1, 1, 1, 1, 1, 1, 1, 1, 1, 1, 1],\n",
       "  [1, 1, 1, 1, 1, 1, 1, 1]]}"
      ]
     },
     "execution_count": 28,
     "metadata": {},
     "output_type": "execute_result"
    }
   ],
   "source": [
    "tokenized_data[\"test\"][0:10]"
   ]
  },
  {
   "cell_type": "code",
   "execution_count": null,
   "id": "918588d8",
   "metadata": {},
   "outputs": [],
   "source": []
  }
 ],
 "metadata": {
  "kernelspec": {
   "display_name": "Python 3",
   "language": "python",
   "name": "python3"
  },
  "language_info": {
   "codemirror_mode": {
    "name": "ipython",
    "version": 3
   },
   "file_extension": ".py",
   "mimetype": "text/x-python",
   "name": "python",
   "nbconvert_exporter": "python",
   "pygments_lexer": "ipython3",
   "version": "3.8.10"
  }
 },
 "nbformat": 4,
 "nbformat_minor": 5
}
