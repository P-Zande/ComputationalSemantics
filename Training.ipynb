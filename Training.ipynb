{
 "cells": [
  {
   "cell_type": "markdown",
   "id": "86af874d",
   "metadata": {},
   "source": [
    "# Data preparation"
   ]
  },
  {
   "cell_type": "code",
   "execution_count": 65,
   "id": "9ae7dbde",
   "metadata": {},
   "outputs": [
    {
     "data": {
      "application/vnd.jupyter.widget-view+json": {
       "model_id": "f5ed8a63b5594f9bbd9b12315efefde3",
       "version_major": 2,
       "version_minor": 0
      },
      "text/plain": [
       "Map:   0%|          | 0/423 [00:00<?, ? examples/s]"
      ]
     },
     "metadata": {},
     "output_type": "display_data"
    },
    {
     "data": {
      "text/plain": [
       "{'tokens': ['Tom', 'is', 'as', 'fast', 'as', 'a', 'leopard', '.'],\n",
       " 'labels': [4, 0, 0, 0, 0, 0, 0, 0],\n",
       " 'id': 313,\n",
       " 'ner_tags': [4, 0, 0, 0, 0, 0, 0, 0]}"
      ]
     },
     "execution_count": 65,
     "metadata": {},
     "output_type": "execute_result"
    }
   ],
   "source": [
    "from datasets import load_from_disk\n",
    "\n",
    "def new_column(example):\n",
    "    example[\"ner_tags\"] = example[\"labels\"]\n",
    "    return example\n",
    "\n",
    "data = load_from_disk(\"test.hf\")\n",
    "id_column = range(data.num_rows)\n",
    "data = data.add_column(\"id\", id_column)\n",
    "data = data.map(new_column)\n",
    "data = data.train_test_split(test_size=0.2)\n",
    "data\n",
    "\n",
    "# from datasets import load_dataset\n",
    "\n",
    "# data = load_dataset(\"wnut_17\")\n",
    "data[\"train\"][0]\n",
    "\n",
    "# label_list = data[\"train\"].features[f\"ner_tags\"].feature.names\n",
    "# label_list"
   ]
  },
  {
   "cell_type": "code",
   "execution_count": 66,
   "id": "ac10a564",
   "metadata": {},
   "outputs": [
    {
     "data": {
      "text/plain": [
       "['[CLS]', 'tom', 'is', 'as', 'fast', 'as', 'a', 'leopard', '.', '[SEP]']"
      ]
     },
     "execution_count": 66,
     "metadata": {},
     "output_type": "execute_result"
    }
   ],
   "source": [
    "from transformers import AutoTokenizer\n",
    "\n",
    "tokenizer = AutoTokenizer.from_pretrained(\"distilbert-base-uncased\")\n",
    "\n",
    "example = data[\"train\"][0]\n",
    "tokenized_input = tokenizer(example[\"tokens\"], is_split_into_words=True)\n",
    "tokens = tokenizer.convert_ids_to_tokens(tokenized_input[\"input_ids\"])\n",
    "tokens"
   ]
  },
  {
   "cell_type": "code",
   "execution_count": 67,
   "id": "0188bd62",
   "metadata": {},
   "outputs": [
    {
     "data": {
      "application/vnd.jupyter.widget-view+json": {
       "model_id": "0bfe1561ddf345ffb4c2de2acdd4834b",
       "version_major": 2,
       "version_minor": 0
      },
      "text/plain": [
       "Map:   0%|          | 0/338 [00:00<?, ? examples/s]"
      ]
     },
     "metadata": {},
     "output_type": "display_data"
    },
    {
     "data": {
      "application/vnd.jupyter.widget-view+json": {
       "model_id": "2c85826264b14f9385c3deb303c05b70",
       "version_major": 2,
       "version_minor": 0
      },
      "text/plain": [
       "Map:   0%|          | 0/85 [00:00<?, ? examples/s]"
      ]
     },
     "metadata": {},
     "output_type": "display_data"
    }
   ],
   "source": [
    "def tokenize_and_align_labels(examples):\n",
    "    tokenized_inputs = tokenizer(examples[\"tokens\"], truncation=True, is_split_into_words=True)\n",
    "\n",
    "    labels = []\n",
    "    for i, label in enumerate(examples[f\"ner_tags\"]):\n",
    "        word_ids = tokenized_inputs.word_ids(batch_index=i)  # Map tokens to their respective word.\n",
    "        previous_word_idx = None\n",
    "        label_ids = []\n",
    "        for word_idx in word_ids:  # Set the special tokens to -100.\n",
    "            if word_idx is None:\n",
    "                label_ids.append(-100)\n",
    "            elif word_idx != previous_word_idx:  # Only label the first token of a given word.\n",
    "                label_ids.append(label[word_idx])\n",
    "            else:\n",
    "                label_ids.append(-100)\n",
    "            previous_word_idx = word_idx\n",
    "        labels.append(label_ids)\n",
    "\n",
    "    tokenized_inputs[\"labels\"] = labels\n",
    "    return tokenized_inputs\n",
    "\n",
    "tokenized_data = data.map(tokenize_and_align_labels, batched=True)"
   ]
  },
  {
   "cell_type": "code",
   "execution_count": 68,
   "id": "023c3de3",
   "metadata": {},
   "outputs": [],
   "source": [
    "from transformers import DataCollatorForTokenClassification\n",
    "\n",
    "data_collator = DataCollatorForTokenClassification(tokenizer=tokenizer)"
   ]
  },
  {
   "cell_type": "markdown",
   "id": "201119dc",
   "metadata": {},
   "source": [
    "## Evaluation method"
   ]
  },
  {
   "cell_type": "code",
   "execution_count": 69,
   "id": "242f94a8",
   "metadata": {},
   "outputs": [],
   "source": [
    "import evaluate\n",
    "import numpy as np\n",
    "\n",
    "seqeval = evaluate.load(\"seqeval\")\n",
    "\n",
    "labels = [label_list[i] for i in example[f\"ner_tags\"]]\n",
    "\n",
    "\n",
    "def compute_metrics(p):\n",
    "    predictions, labels = p\n",
    "    predictions = np.argmax(predictions, axis=2)\n",
    "\n",
    "    true_predictions = [\n",
    "        [label_list[p] for (p, l) in zip(prediction, label) if l != -100]\n",
    "        for prediction, label in zip(predictions, labels)\n",
    "    ]\n",
    "    true_labels = [\n",
    "        [label_list[l] for (p, l) in zip(prediction, label) if l != -100]\n",
    "        for prediction, label in zip(predictions, labels)\n",
    "    ]\n",
    "\n",
    "    results = seqeval.compute(predictions=true_predictions, references=true_labels)\n",
    "    return {\n",
    "        \"precision\": results[\"overall_precision\"],\n",
    "        \"recall\": results[\"overall_recall\"],\n",
    "        \"f1\": results[\"overall_f1\"],\n",
    "        \"accuracy\": results[\"overall_accuracy\"],\n",
    "    }"
   ]
  },
  {
   "cell_type": "markdown",
   "id": "af076a6f",
   "metadata": {},
   "source": [
    "# Training"
   ]
  },
  {
   "cell_type": "code",
   "execution_count": 70,
   "id": "1416e8a8",
   "metadata": {},
   "outputs": [],
   "source": [
    "# wnut info\n",
    "# id2label = {\n",
    "#     0: \"O\",\n",
    "#     1: \"B-corporation\",\n",
    "#     2: \"I-corporation\",\n",
    "#     3: \"B-creative-work\",\n",
    "#     4: \"I-creative-work\",\n",
    "#     5: \"B-group\",\n",
    "#     6: \"I-group\",\n",
    "#     7: \"B-location\",\n",
    "#     8: \"I-location\",\n",
    "#     9: \"B-person\",\n",
    "#     10: \"I-person\",\n",
    "#     11: \"B-product\",\n",
    "#     12: \"I-product\",\n",
    "# }\n",
    "\n",
    "# label2id = {\n",
    "#     \"O\": 0,\n",
    "#     \"B-corporation\": 1,\n",
    "#     \"I-corporation\": 2,\n",
    "#     \"B-creative-work\": 3,\n",
    "#     \"I-creative-work\": 4,\n",
    "#     \"B-group\": 5,\n",
    "#     \"I-group\": 6,\n",
    "#     \"B-location\": 7,\n",
    "#     \"I-location\": 8,\n",
    "#     \"B-person\": 9,\n",
    "#     \"I-person\": 10,\n",
    "#     \"B-product\": 11,\n",
    "#     \"I-product\": 12,\n",
    "# }\n",
    "\n",
    "# wnut info\n",
    "id2label = {\n",
    "    0: \"O\",\n",
    "    1: \"Agent\",\n",
    "    2: \"Location\",\n",
    "    3: \"Patient\",\n",
    "    4: \"Theme\",\n",
    "    5: \"Topic\",\n",
    "    6: \"Destination\",\n",
    "    7: \"Result\",\n",
    "}\n",
    "\n",
    "label2id = {\n",
    "    \"O\": 0,\n",
    "    \"Agent\": 1,\n",
    "    \"Location\": 2,\n",
    "    \"Patient\": 3,\n",
    "    \"Theme\": 4,\n",
    "    \"Topic\": 5,\n",
    "    \"Destination\": 6,\n",
    "    \"Result\": 7,\n",
    "}"
   ]
  },
  {
   "cell_type": "code",
   "execution_count": 71,
   "id": "efb0be51",
   "metadata": {},
   "outputs": [
    {
     "name": "stderr",
     "output_type": "stream",
     "text": [
      "Some weights of DistilBertForTokenClassification were not initialized from the model checkpoint at distilbert-base-uncased and are newly initialized: ['classifier.weight', 'classifier.bias']\n",
      "You should probably TRAIN this model on a down-stream task to be able to use it for predictions and inference.\n"
     ]
    }
   ],
   "source": [
    "from transformers import AutoModelForTokenClassification, TrainingArguments, Trainer\n",
    "\n",
    "model = AutoModelForTokenClassification.from_pretrained(\n",
    "    \"distilbert-base-uncased\", num_labels=8, id2label=id2label, label2id=label2id\n",
    ")"
   ]
  },
  {
   "cell_type": "code",
   "execution_count": 78,
   "id": "ef78519d",
   "metadata": {},
   "outputs": [
    {
     "data": {
      "text/html": [
       "\n",
       "    <div>\n",
       "      \n",
       "      <progress value='110' max='110' style='width:300px; height:20px; vertical-align: middle;'></progress>\n",
       "      [110/110 02:17, Epoch 5/5]\n",
       "    </div>\n",
       "    <table border=\"1\" class=\"dataframe\">\n",
       "  <thead>\n",
       " <tr style=\"text-align: left;\">\n",
       "      <th>Epoch</th>\n",
       "      <th>Training Loss</th>\n",
       "      <th>Validation Loss</th>\n",
       "      <th>Precision</th>\n",
       "      <th>Recall</th>\n",
       "      <th>F1</th>\n",
       "      <th>Accuracy</th>\n",
       "    </tr>\n",
       "  </thead>\n",
       "  <tbody>\n",
       "    <tr>\n",
       "      <td>1</td>\n",
       "      <td>No log</td>\n",
       "      <td>0.741413</td>\n",
       "      <td>0.000000</td>\n",
       "      <td>0.000000</td>\n",
       "      <td>0.000000</td>\n",
       "      <td>0.764000</td>\n",
       "    </tr>\n",
       "    <tr>\n",
       "      <td>2</td>\n",
       "      <td>No log</td>\n",
       "      <td>0.646954</td>\n",
       "      <td>0.294118</td>\n",
       "      <td>0.053191</td>\n",
       "      <td>0.090090</td>\n",
       "      <td>0.768000</td>\n",
       "    </tr>\n",
       "    <tr>\n",
       "      <td>3</td>\n",
       "      <td>No log</td>\n",
       "      <td>0.598358</td>\n",
       "      <td>0.370968</td>\n",
       "      <td>0.244681</td>\n",
       "      <td>0.294872</td>\n",
       "      <td>0.772000</td>\n",
       "    </tr>\n",
       "    <tr>\n",
       "      <td>4</td>\n",
       "      <td>No log</td>\n",
       "      <td>0.576823</td>\n",
       "      <td>0.384615</td>\n",
       "      <td>0.265957</td>\n",
       "      <td>0.314465</td>\n",
       "      <td>0.780000</td>\n",
       "    </tr>\n",
       "    <tr>\n",
       "      <td>5</td>\n",
       "      <td>No log</td>\n",
       "      <td>0.571104</td>\n",
       "      <td>0.375000</td>\n",
       "      <td>0.255319</td>\n",
       "      <td>0.303797</td>\n",
       "      <td>0.778000</td>\n",
       "    </tr>\n",
       "  </tbody>\n",
       "</table><p>"
      ],
      "text/plain": [
       "<IPython.core.display.HTML object>"
      ]
     },
     "metadata": {},
     "output_type": "display_data"
    },
    {
     "name": "stderr",
     "output_type": "stream",
     "text": [
      "C:\\Users\\bikow\\anaconda3\\Lib\\site-packages\\seqeval\\metrics\\v1.py:57: UndefinedMetricWarning: Precision and F-score are ill-defined and being set to 0.0 in labels with no predicted samples. Use `zero_division` parameter to control this behavior.\n",
      "  _warn_prf(average, modifier, msg_start, len(result))\n",
      "C:\\Users\\bikow\\anaconda3\\Lib\\site-packages\\seqeval\\metrics\\v1.py:57: UndefinedMetricWarning: Precision and F-score are ill-defined and being set to 0.0 due to no predicted samples. Use `zero_division` parameter to control this behavior.\n",
      "  _warn_prf(average, modifier, msg_start, len(result))\n",
      "C:\\Users\\bikow\\anaconda3\\Lib\\site-packages\\seqeval\\metrics\\v1.py:57: UndefinedMetricWarning: Precision and F-score are ill-defined and being set to 0.0 in labels with no predicted samples. Use `zero_division` parameter to control this behavior.\n",
      "  _warn_prf(average, modifier, msg_start, len(result))\n",
      "C:\\Users\\bikow\\anaconda3\\Lib\\site-packages\\seqeval\\metrics\\v1.py:57: UndefinedMetricWarning: Precision and F-score are ill-defined and being set to 0.0 in labels with no predicted samples. Use `zero_division` parameter to control this behavior.\n",
      "  _warn_prf(average, modifier, msg_start, len(result))\n",
      "C:\\Users\\bikow\\anaconda3\\Lib\\site-packages\\seqeval\\metrics\\v1.py:57: UndefinedMetricWarning: Precision and F-score are ill-defined and being set to 0.0 in labels with no predicted samples. Use `zero_division` parameter to control this behavior.\n",
      "  _warn_prf(average, modifier, msg_start, len(result))\n",
      "C:\\Users\\bikow\\anaconda3\\Lib\\site-packages\\seqeval\\metrics\\v1.py:57: UndefinedMetricWarning: Precision and F-score are ill-defined and being set to 0.0 in labels with no predicted samples. Use `zero_division` parameter to control this behavior.\n",
      "  _warn_prf(average, modifier, msg_start, len(result))\n"
     ]
    },
    {
     "data": {
      "text/plain": [
       "TrainOutput(global_step=110, training_loss=0.6031374844637785, metrics={'train_runtime': 138.9055, 'train_samples_per_second': 12.167, 'train_steps_per_second': 0.792, 'total_flos': 6185768345760.0, 'train_loss': 0.6031374844637785, 'epoch': 5.0})"
      ]
     },
     "execution_count": 78,
     "metadata": {},
     "output_type": "execute_result"
    }
   ],
   "source": [
    "# Training parameters\n",
    "training_args = TrainingArguments(\n",
    "    output_dir=\"thematic_role_model\",\n",
    "    learning_rate=2e-5,\n",
    "    per_device_train_batch_size=16,\n",
    "    per_device_eval_batch_size=16,\n",
    "    num_train_epochs=5,\n",
    "    weight_decay=0.01,\n",
    "    evaluation_strategy=\"epoch\",\n",
    "    save_strategy=\"epoch\",\n",
    "    load_best_model_at_end=True,\n",
    "    push_to_hub=False,\n",
    ")\n",
    "\n",
    "trainer = Trainer(\n",
    "    model=model,\n",
    "    args=training_args,\n",
    "    train_dataset=tokenized_data[\"train\"],\n",
    "    eval_dataset=tokenized_data[\"test\"],\n",
    "    tokenizer=tokenizer,\n",
    "    data_collator=data_collator,\n",
    "    compute_metrics=compute_metrics,\n",
    ")\n",
    "\n",
    "trainer.train()"
   ]
  },
  {
   "cell_type": "markdown",
   "id": "22d9aa01",
   "metadata": {},
   "source": [
    "# Inference"
   ]
  },
  {
   "cell_type": "code",
   "execution_count": 83,
   "id": "0ccc8aaa",
   "metadata": {},
   "outputs": [
    {
     "data": {
      "text/plain": [
       "[{'entity': 'Agent',\n",
       "  'score': 0.41819435,\n",
       "  'index': 1,\n",
       "  'word': 'a',\n",
       "  'start': 0,\n",
       "  'end': 1},\n",
       " {'entity': 'Theme',\n",
       "  'score': 0.36844808,\n",
       "  'index': 2,\n",
       "  'word': 'dog',\n",
       "  'start': 2,\n",
       "  'end': 5},\n",
       " {'entity': 'Theme',\n",
       "  'score': 0.53722537,\n",
       "  'index': 4,\n",
       "  'word': 'a',\n",
       "  'start': 13,\n",
       "  'end': 14},\n",
       " {'entity': 'Theme',\n",
       "  'score': 0.55206406,\n",
       "  'index': 5,\n",
       "  'word': 'cat',\n",
       "  'start': 15,\n",
       "  'end': 18},\n",
       " {'entity': 'Theme',\n",
       "  'score': 0.24746658,\n",
       "  'index': 7,\n",
       "  'word': 'the',\n",
       "  'start': 22,\n",
       "  'end': 25},\n",
       " {'entity': 'Theme',\n",
       "  'score': 0.34320387,\n",
       "  'index': 8,\n",
       "  'word': 'bus',\n",
       "  'start': 26,\n",
       "  'end': 29}]"
      ]
     },
     "execution_count": 83,
     "metadata": {},
     "output_type": "execute_result"
    }
   ],
   "source": [
    "from transformers import pipeline\n",
    "\n",
    "text = \"A dog chases a cat to the bus.\"\n",
    "\n",
    "classifier = pipeline(\"ner\", model=\"thematic_role_model/checkpoint-110\")\n",
    "classifier(text)"
   ]
  },
  {
   "cell_type": "code",
   "execution_count": 85,
   "id": "f5540636",
   "metadata": {},
   "outputs": [
    {
     "name": "stdout",
     "output_type": "stream",
     "text": [
      "A dog chases a cat to the bus.\n",
      "{'input_ids': tensor([[  101,  1037,  3899, 29515,  1037,  4937,  2000,  1996,  3902,  1012,\n",
      "           102]]), 'attention_mask': tensor([[1, 1, 1, 1, 1, 1, 1, 1, 1, 1, 1]])}\n",
      "['O', 'Agent', 'Theme', 'O', 'Theme', 'Theme', 'O', 'Theme', 'Theme', 'O', 'O']\n"
     ]
    }
   ],
   "source": [
    "import torch\n",
    "from transformers import AutoTokenizer\n",
    "\n",
    "tokenizer = AutoTokenizer.from_pretrained(\"thematic_role_model/checkpoint-110\")\n",
    "inputs = tokenizer(text, return_tensors=\"pt\")\n",
    "\n",
    "from transformers import AutoModelForTokenClassification\n",
    "\n",
    "model = AutoModelForTokenClassification.from_pretrained(\"thematic_role_model/checkpoint-110\")\n",
    "with torch.no_grad():\n",
    "    logits = model(**inputs).logits\n",
    "\n",
    "predictions = torch.argmax(logits, dim=2)\n",
    "predicted_token_class = [model.config.id2label[t.item()] for t in predictions[0]]\n",
    "\n",
    "print(text)\n",
    "print(inputs)\n",
    "print(predicted_token_class)"
   ]
  },
  {
   "cell_type": "code",
   "execution_count": null,
   "id": "16db8b84",
   "metadata": {},
   "outputs": [],
   "source": []
  }
 ],
 "metadata": {
  "kernelspec": {
   "display_name": "Python 3 (ipykernel)",
   "language": "python",
   "name": "python3"
  },
  "language_info": {
   "codemirror_mode": {
    "name": "ipython",
    "version": 3
   },
   "file_extension": ".py",
   "mimetype": "text/x-python",
   "name": "python",
   "nbconvert_exporter": "python",
   "pygments_lexer": "ipython3",
   "version": "3.11.4"
  }
 },
 "nbformat": 4,
 "nbformat_minor": 5
}
